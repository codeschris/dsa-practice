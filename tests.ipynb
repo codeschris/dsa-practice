{
 "cells": [
  {
   "cell_type": "markdown",
   "metadata": {},
   "source": [
    "## Tests performed in the Udacity course\n",
    "__This notebook is for reference__"
   ]
  },
  {
   "cell_type": "markdown",
   "metadata": {},
   "source": [
    "1. Accessing items in a dictionary\n",
    "- This is done in preparation for the 'Maps & Hashing' unit"
   ]
  },
  {
   "cell_type": "code",
   "execution_count": 87,
   "metadata": {},
   "outputs": [
    {
     "name": "stdout",
     "output_type": "stream",
     "text": [
      "1\n",
      "Atlanta\n",
      "Mountain View\n",
      "2\n",
      "Shanghai - China\n",
      "Bangalore - India\n"
     ]
    }
   ],
   "source": [
    "locations = {'North America': {'USA': ['Mountain View', 'Atlanta']},\n",
    "    'Asia': {'China': 'Shanghai', 'India': 'Bangalore'},\n",
    "    'Africa': {'Egypt': ['Cairo']}\n",
    "}\n",
    "\n",
    "#American city solution\n",
    "locations['North America']['USA'].sort()\n",
    "for i in locations['North America']:\n",
    "    print(\"1\")\n",
    "    for j in locations['North America']['USA']:\n",
    "        print(j)\n",
    "\n",
    "#Asian city solution\n",
    "if locations['Asia']:\n",
    "    print(\"2\")\n",
    "for a in locations['Asia']:\n",
    "    print(f\"{locations['Asia'][a]} - {a}\")"
   ]
  }
 ],
 "metadata": {
  "kernelspec": {
   "display_name": "Python 3",
   "language": "python",
   "name": "python3"
  },
  "language_info": {
   "codemirror_mode": {
    "name": "ipython",
    "version": 3
   },
   "file_extension": ".py",
   "mimetype": "text/x-python",
   "name": "python",
   "nbconvert_exporter": "python",
   "pygments_lexer": "ipython3",
   "version": "3.11.1"
  },
  "orig_nbformat": 4
 },
 "nbformat": 4,
 "nbformat_minor": 2
}
